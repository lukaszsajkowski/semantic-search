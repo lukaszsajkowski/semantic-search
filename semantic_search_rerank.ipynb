{
  "metadata": {
    "kernelspec": {
      "language": "python",
      "display_name": "Python 3",
      "name": "python3"
    },
    "language_info": {
      "name": "python",
      "version": "3.7.12",
      "mimetype": "text/x-python",
      "codemirror_mode": {
        "name": "ipython",
        "version": 3
      },
      "pygments_lexer": "ipython3",
      "nbconvert_exporter": "python",
      "file_extension": ".py"
    },
    "colab": {
      "provenance": [],
      "machine_shape": "hm"
    },
    "gpuClass": "standard",
    "accelerator": "GPU",
    "widgets": {
      "application/vnd.jupyter.widget-state+json": {
        "303d6eb98935445f9323a4d6e071856b": {
          "model_module": "@jupyter-widgets/controls",
          "model_name": "HBoxModel",
          "model_module_version": "1.5.0",
          "state": {
            "_dom_classes": [],
            "_model_module": "@jupyter-widgets/controls",
            "_model_module_version": "1.5.0",
            "_model_name": "HBoxModel",
            "_view_count": null,
            "_view_module": "@jupyter-widgets/controls",
            "_view_module_version": "1.5.0",
            "_view_name": "HBoxView",
            "box_style": "",
            "children": [
              "IPY_MODEL_10456216e7b74ffcb1f653702ca1bc21",
              "IPY_MODEL_d5ef4ee164c74966bf2f403316e9e356",
              "IPY_MODEL_9e4d832805cc4528825b00ac63caffe0"
            ],
            "layout": "IPY_MODEL_fd1af48e39ca46b38be04651d5637d69"
          }
        },
        "10456216e7b74ffcb1f653702ca1bc21": {
          "model_module": "@jupyter-widgets/controls",
          "model_name": "HTMLModel",
          "model_module_version": "1.5.0",
          "state": {
            "_dom_classes": [],
            "_model_module": "@jupyter-widgets/controls",
            "_model_module_version": "1.5.0",
            "_model_name": "HTMLModel",
            "_view_count": null,
            "_view_module": "@jupyter-widgets/controls",
            "_view_module_version": "1.5.0",
            "_view_name": "HTMLView",
            "description": "",
            "description_tooltip": null,
            "layout": "IPY_MODEL_66b465b25f7c40598e61f54d90ce5be7",
            "placeholder": "​",
            "style": "IPY_MODEL_cdffa96fca944d899ef907a583d1e78a",
            "value": "Map: 100%"
          }
        },
        "d5ef4ee164c74966bf2f403316e9e356": {
          "model_module": "@jupyter-widgets/controls",
          "model_name": "FloatProgressModel",
          "model_module_version": "1.5.0",
          "state": {
            "_dom_classes": [],
            "_model_module": "@jupyter-widgets/controls",
            "_model_module_version": "1.5.0",
            "_model_name": "FloatProgressModel",
            "_view_count": null,
            "_view_module": "@jupyter-widgets/controls",
            "_view_module_version": "1.5.0",
            "_view_name": "ProgressView",
            "bar_style": "",
            "description": "",
            "description_tooltip": null,
            "layout": "IPY_MODEL_715b9158be084b49adc20b8c8afa3768",
            "max": 509663,
            "min": 0,
            "orientation": "horizontal",
            "style": "IPY_MODEL_4f9d3b5b8d5f436ca554784d2a26d08b",
            "value": 509663
          }
        },
        "9e4d832805cc4528825b00ac63caffe0": {
          "model_module": "@jupyter-widgets/controls",
          "model_name": "HTMLModel",
          "model_module_version": "1.5.0",
          "state": {
            "_dom_classes": [],
            "_model_module": "@jupyter-widgets/controls",
            "_model_module_version": "1.5.0",
            "_model_name": "HTMLModel",
            "_view_count": null,
            "_view_module": "@jupyter-widgets/controls",
            "_view_module_version": "1.5.0",
            "_view_name": "HTMLView",
            "description": "",
            "description_tooltip": null,
            "layout": "IPY_MODEL_aabf7ab7e00148499701270870f9c5bb",
            "placeholder": "​",
            "style": "IPY_MODEL_2716960d12b041aa9a4126acfd6cb3ee",
            "value": " 509653/509663 [1:03:07&lt;00:00, 122.89 examples/s]"
          }
        },
        "fd1af48e39ca46b38be04651d5637d69": {
          "model_module": "@jupyter-widgets/base",
          "model_name": "LayoutModel",
          "model_module_version": "1.2.0",
          "state": {
            "_model_module": "@jupyter-widgets/base",
            "_model_module_version": "1.2.0",
            "_model_name": "LayoutModel",
            "_view_count": null,
            "_view_module": "@jupyter-widgets/base",
            "_view_module_version": "1.2.0",
            "_view_name": "LayoutView",
            "align_content": null,
            "align_items": null,
            "align_self": null,
            "border": null,
            "bottom": null,
            "display": null,
            "flex": null,
            "flex_flow": null,
            "grid_area": null,
            "grid_auto_columns": null,
            "grid_auto_flow": null,
            "grid_auto_rows": null,
            "grid_column": null,
            "grid_gap": null,
            "grid_row": null,
            "grid_template_areas": null,
            "grid_template_columns": null,
            "grid_template_rows": null,
            "height": null,
            "justify_content": null,
            "justify_items": null,
            "left": null,
            "margin": null,
            "max_height": null,
            "max_width": null,
            "min_height": null,
            "min_width": null,
            "object_fit": null,
            "object_position": null,
            "order": null,
            "overflow": null,
            "overflow_x": null,
            "overflow_y": null,
            "padding": null,
            "right": null,
            "top": null,
            "visibility": "hidden",
            "width": null
          }
        },
        "66b465b25f7c40598e61f54d90ce5be7": {
          "model_module": "@jupyter-widgets/base",
          "model_name": "LayoutModel",
          "model_module_version": "1.2.0",
          "state": {
            "_model_module": "@jupyter-widgets/base",
            "_model_module_version": "1.2.0",
            "_model_name": "LayoutModel",
            "_view_count": null,
            "_view_module": "@jupyter-widgets/base",
            "_view_module_version": "1.2.0",
            "_view_name": "LayoutView",
            "align_content": null,
            "align_items": null,
            "align_self": null,
            "border": null,
            "bottom": null,
            "display": null,
            "flex": null,
            "flex_flow": null,
            "grid_area": null,
            "grid_auto_columns": null,
            "grid_auto_flow": null,
            "grid_auto_rows": null,
            "grid_column": null,
            "grid_gap": null,
            "grid_row": null,
            "grid_template_areas": null,
            "grid_template_columns": null,
            "grid_template_rows": null,
            "height": null,
            "justify_content": null,
            "justify_items": null,
            "left": null,
            "margin": null,
            "max_height": null,
            "max_width": null,
            "min_height": null,
            "min_width": null,
            "object_fit": null,
            "object_position": null,
            "order": null,
            "overflow": null,
            "overflow_x": null,
            "overflow_y": null,
            "padding": null,
            "right": null,
            "top": null,
            "visibility": null,
            "width": null
          }
        },
        "cdffa96fca944d899ef907a583d1e78a": {
          "model_module": "@jupyter-widgets/controls",
          "model_name": "DescriptionStyleModel",
          "model_module_version": "1.5.0",
          "state": {
            "_model_module": "@jupyter-widgets/controls",
            "_model_module_version": "1.5.0",
            "_model_name": "DescriptionStyleModel",
            "_view_count": null,
            "_view_module": "@jupyter-widgets/base",
            "_view_module_version": "1.2.0",
            "_view_name": "StyleView",
            "description_width": ""
          }
        },
        "715b9158be084b49adc20b8c8afa3768": {
          "model_module": "@jupyter-widgets/base",
          "model_name": "LayoutModel",
          "model_module_version": "1.2.0",
          "state": {
            "_model_module": "@jupyter-widgets/base",
            "_model_module_version": "1.2.0",
            "_model_name": "LayoutModel",
            "_view_count": null,
            "_view_module": "@jupyter-widgets/base",
            "_view_module_version": "1.2.0",
            "_view_name": "LayoutView",
            "align_content": null,
            "align_items": null,
            "align_self": null,
            "border": null,
            "bottom": null,
            "display": null,
            "flex": null,
            "flex_flow": null,
            "grid_area": null,
            "grid_auto_columns": null,
            "grid_auto_flow": null,
            "grid_auto_rows": null,
            "grid_column": null,
            "grid_gap": null,
            "grid_row": null,
            "grid_template_areas": null,
            "grid_template_columns": null,
            "grid_template_rows": null,
            "height": null,
            "justify_content": null,
            "justify_items": null,
            "left": null,
            "margin": null,
            "max_height": null,
            "max_width": null,
            "min_height": null,
            "min_width": null,
            "object_fit": null,
            "object_position": null,
            "order": null,
            "overflow": null,
            "overflow_x": null,
            "overflow_y": null,
            "padding": null,
            "right": null,
            "top": null,
            "visibility": null,
            "width": null
          }
        },
        "4f9d3b5b8d5f436ca554784d2a26d08b": {
          "model_module": "@jupyter-widgets/controls",
          "model_name": "ProgressStyleModel",
          "model_module_version": "1.5.0",
          "state": {
            "_model_module": "@jupyter-widgets/controls",
            "_model_module_version": "1.5.0",
            "_model_name": "ProgressStyleModel",
            "_view_count": null,
            "_view_module": "@jupyter-widgets/base",
            "_view_module_version": "1.2.0",
            "_view_name": "StyleView",
            "bar_color": null,
            "description_width": ""
          }
        },
        "aabf7ab7e00148499701270870f9c5bb": {
          "model_module": "@jupyter-widgets/base",
          "model_name": "LayoutModel",
          "model_module_version": "1.2.0",
          "state": {
            "_model_module": "@jupyter-widgets/base",
            "_model_module_version": "1.2.0",
            "_model_name": "LayoutModel",
            "_view_count": null,
            "_view_module": "@jupyter-widgets/base",
            "_view_module_version": "1.2.0",
            "_view_name": "LayoutView",
            "align_content": null,
            "align_items": null,
            "align_self": null,
            "border": null,
            "bottom": null,
            "display": null,
            "flex": null,
            "flex_flow": null,
            "grid_area": null,
            "grid_auto_columns": null,
            "grid_auto_flow": null,
            "grid_auto_rows": null,
            "grid_column": null,
            "grid_gap": null,
            "grid_row": null,
            "grid_template_areas": null,
            "grid_template_columns": null,
            "grid_template_rows": null,
            "height": null,
            "justify_content": null,
            "justify_items": null,
            "left": null,
            "margin": null,
            "max_height": null,
            "max_width": null,
            "min_height": null,
            "min_width": null,
            "object_fit": null,
            "object_position": null,
            "order": null,
            "overflow": null,
            "overflow_x": null,
            "overflow_y": null,
            "padding": null,
            "right": null,
            "top": null,
            "visibility": null,
            "width": null
          }
        },
        "2716960d12b041aa9a4126acfd6cb3ee": {
          "model_module": "@jupyter-widgets/controls",
          "model_name": "DescriptionStyleModel",
          "model_module_version": "1.5.0",
          "state": {
            "_model_module": "@jupyter-widgets/controls",
            "_model_module_version": "1.5.0",
            "_model_name": "DescriptionStyleModel",
            "_view_count": null,
            "_view_module": "@jupyter-widgets/base",
            "_view_module_version": "1.2.0",
            "_view_name": "StyleView",
            "description_width": ""
          }
        }
      }
    }
  },
  "nbformat_minor": 0,
  "nbformat": 4,
  "cells": [
    {
      "cell_type": "code",
      "source": [
        "%%capture --no-display\n",
        "\n",
        "!pip install huggingface-hub\n",
        "!pip install datasets\n",
        "!pip install transformers\n",
        "!pip install sentence-transformers\n",
        "\n",
        "!pip install faiss-gpu\n",
        "!pip install faiss-cpu\n",
        "\n",
        "!pip install gradio"
      ],
      "metadata": {
        "execution": {
          "iopub.status.busy": "2023-04-24T19:54:44.956242Z",
          "iopub.execute_input": "2023-04-24T19:54:44.956587Z",
          "iopub.status.idle": "2023-04-24T19:55:54.499613Z",
          "shell.execute_reply.started": "2023-04-24T19:54:44.956556Z",
          "shell.execute_reply": "2023-04-24T19:55:54.498268Z"
        },
        "trusted": true,
        "id": "RKjj5u1w2V_0"
      },
      "execution_count": null,
      "outputs": []
    },
    {
      "cell_type": "code",
      "source": [
        "import numpy as np\n",
        "import pandas as pd\n",
        "import faiss\n",
        "from transformers import AutoTokenizer, AutoModel, AutoModelForSequenceClassification\n",
        "from sentence_transformers import util\n",
        "from datasets import Dataset, load_dataset\n",
        "from huggingface_hub import notebook_login\n",
        "\n",
        "import os\n",
        "import json\n",
        "import gzip"
      ],
      "metadata": {
        "execution": {
          "iopub.status.busy": "2023-04-24T19:56:01.433789Z",
          "iopub.execute_input": "2023-04-24T19:56:01.434194Z",
          "iopub.status.idle": "2023-04-24T19:56:07.005012Z",
          "shell.execute_reply.started": "2023-04-24T19:56:01.434157Z",
          "shell.execute_reply": "2023-04-24T19:56:07.004009Z"
        },
        "trusted": true,
        "id": "m0arYLn-2V_1"
      },
      "execution_count": null,
      "outputs": []
    },
    {
      "cell_type": "code",
      "source": [
        "notebook_login()"
      ],
      "metadata": {
        "id": "1BwWBBTx5_1w"
      },
      "execution_count": null,
      "outputs": []
    },
    {
      "cell_type": "code",
      "source": [
        "# Load bi-encoder and tokenizer\n",
        "bi_encoder_name = \"sentence-transformers/msmarco-distilbert-base-v2\"\n",
        "bi_encoder = AutoModel.from_pretrained(bi_encoder_name)\n",
        "bi_tokenizer = AutoTokenizer.from_pretrained(bi_encoder_name, batch_size=2)\n",
        "\n",
        "# Load cross-encoder and tokenizer\n",
        "cross_encoder_name = \"cross-encoder/ms-marco-MiniLM-L-6-v2\"\n",
        "cross_encoder = AutoModelForSequenceClassification.from_pretrained(cross_encoder_name)\n",
        "cross_tokenizer = AutoTokenizer.from_pretrained(cross_encoder_name)"
      ],
      "metadata": {
        "execution": {
          "iopub.status.busy": "2023-04-24T19:56:11.768909Z",
          "iopub.execute_input": "2023-04-24T19:56:11.769773Z",
          "iopub.status.idle": "2023-04-24T19:56:19.515172Z",
          "shell.execute_reply.started": "2023-04-24T19:56:11.769734Z",
          "shell.execute_reply": "2023-04-24T19:56:19.513967Z"
        },
        "trusted": true,
        "id": "L36tvYYm2V_2"
      },
      "execution_count": null,
      "outputs": []
    },
    {
      "cell_type": "code",
      "source": [
        "%%capture --no-display\n",
        "\n",
        "import torch\n",
        "\n",
        "device = torch.device(\"cuda\")\n",
        "bi_encoder.to(device)"
      ],
      "metadata": {
        "id": "cLffsIfF32_8"
      },
      "execution_count": null,
      "outputs": []
    },
    {
      "cell_type": "code",
      "source": [
        "def load_wikipedia_data(wikipedia_filepath):\n",
        "    if not os.path.exists(wikipedia_filepath):\n",
        "        util.http_get(wikipedia_filepath, wikipedia_filepath)\n",
        "\n",
        "    passages = []\n",
        "    with gzip.open(wikipedia_filepath, 'rt', encoding='utf8') as fIn:\n",
        "        for line in fIn:\n",
        "            data = json.loads(line.strip())\n",
        "            passages.extend(data['paragraphs'])\n",
        "\n",
        "    return passages\n",
        "\n",
        "wikipedia_filepath = 'http://sbert.net/datasets/simplewiki-2020-11-01.jsonl.gz'\n",
        "corpus = load_wikipedia_data(wikipedia_filepath)\n",
        "\n",
        "corpus = pd.DataFrame(corpus, columns =['text'])\n",
        "ds = Dataset.from_pandas(corpus)"
      ],
      "metadata": {
        "execution": {
          "iopub.status.busy": "2023-04-24T19:56:25.351975Z",
          "iopub.execute_input": "2023-04-24T19:56:25.352793Z",
          "iopub.status.idle": "2023-04-24T19:56:32.836897Z",
          "shell.execute_reply.started": "2023-04-24T19:56:25.352752Z",
          "shell.execute_reply": "2023-04-24T19:56:32.835824Z"
        },
        "trusted": true,
        "id": "WRheGUsi2V_2"
      },
      "execution_count": null,
      "outputs": []
    },
    {
      "cell_type": "code",
      "source": [
        "corpus = pd.DataFrame(corpus, columns =['text'])\n",
        "ds = Dataset.from_pandas(corpus)"
      ],
      "metadata": {
        "id": "YWAVSLxkr85y"
      },
      "execution_count": null,
      "outputs": []
    },
    {
      "cell_type": "code",
      "source": [
        "def cls_pooling(model_output):\n",
        "    return model_output.last_hidden_state[:, 0]"
      ],
      "metadata": {
        "id": "8gNG5TJYuoJm"
      },
      "execution_count": null,
      "outputs": []
    },
    {
      "cell_type": "code",
      "source": [
        "def create_embeddings(corpus, model, tokenizer):\n",
        "    encoded_input = tokenizer(\n",
        "        corpus, padding=True, truncation=True, return_tensors=\"pt\"\n",
        "    )\n",
        "    encoded_input = {k: v.to(device) for k, v in encoded_input.items()}\n",
        "    model_output = model(**encoded_input)\n",
        "    return cls_pooling(model_output)"
      ],
      "metadata": {
        "id": "xVBdclSZuqUA"
      },
      "execution_count": null,
      "outputs": []
    },
    {
      "cell_type": "code",
      "source": [
        "embeddings_dataset = ds.map(\n",
        "    lambda x: {\"embeddings\": create_embeddings(x[\"text\"], bi_encoder, bi_tokenizer).detach().cpu().numpy()[0]}\n",
        ")"
      ],
      "metadata": {
        "colab": {
          "base_uri": "https://localhost:8080/",
          "height": 17,
          "referenced_widgets": [
            "303d6eb98935445f9323a4d6e071856b",
            "10456216e7b74ffcb1f653702ca1bc21",
            "d5ef4ee164c74966bf2f403316e9e356",
            "9e4d832805cc4528825b00ac63caffe0",
            "fd1af48e39ca46b38be04651d5637d69",
            "66b465b25f7c40598e61f54d90ce5be7",
            "cdffa96fca944d899ef907a583d1e78a",
            "715b9158be084b49adc20b8c8afa3768",
            "4f9d3b5b8d5f436ca554784d2a26d08b",
            "aabf7ab7e00148499701270870f9c5bb",
            "2716960d12b041aa9a4126acfd6cb3ee"
          ]
        },
        "id": "HPcwF9l7utDN",
        "outputId": "1093429b-a664-4d87-c49b-ff80d15e207f"
      },
      "execution_count": null,
      "outputs": [
        {
          "output_type": "display_data",
          "data": {
            "text/plain": [
              "Map:   0%|          | 0/509663 [00:00<?, ? examples/s]"
            ],
            "application/vnd.jupyter.widget-view+json": {
              "version_major": 2,
              "version_minor": 0,
              "model_id": "303d6eb98935445f9323a4d6e071856b"
            }
          },
          "metadata": {}
        }
      ]
    },
    {
      "cell_type": "code",
      "source": [
        "from datasets import load_dataset\n",
        "embeddings_dataset.push_to_hub(\"LukeSajkowski/simplewiki-2020-11-01-embeddings\")"
      ],
      "metadata": {
        "id": "pM8901RbDWwB"
      },
      "execution_count": null,
      "outputs": []
    },
    {
      "cell_type": "code",
      "source": [
        "#Loading the dataset from the hub\n",
        "datasets = load_dataset('LukeSajkowski/simplewiki-2020-11-01-embeddings')\n",
        "embeddings_dataset = datasets['train']"
      ],
      "metadata": {
        "id": "uw01SNui6fV4"
      },
      "execution_count": null,
      "outputs": []
    },
    {
      "cell_type": "code",
      "source": [
        "# Create FAISS index for efficient search\n",
        "embeddings_dataset.add_faiss_index(column=\"embeddings\")"
      ],
      "metadata": {
        "execution": {
          "iopub.status.busy": "2023-04-24T19:27:25.209395Z",
          "iopub.execute_input": "2023-04-24T19:27:25.209803Z",
          "iopub.status.idle": "2023-04-24T19:27:25.216247Z",
          "shell.execute_reply.started": "2023-04-24T19:27:25.209754Z",
          "shell.execute_reply": "2023-04-24T19:27:25.215027Z"
        },
        "trusted": true,
        "id": "3CSrFgHY2V_3"
      },
      "execution_count": null,
      "outputs": []
    },
    {
      "cell_type": "code",
      "source": [
        "# Re-rank using cross-encoder\n",
        "def rerank(query, candidates, model, tokenizer):\n",
        "    inputs = tokenizer([query] * len(candidates), candidates, return_tensors=\"pt\", truncation=True, padding=True)\n",
        "    with torch.no_grad():\n",
        "        scores = model(**inputs).logits.squeeze().tolist()\n",
        "    return [x for _, x in sorted(zip(scores, candidates), key=lambda pair: pair[0], reverse=True)]"
      ],
      "metadata": {
        "id": "0TIFzw2X-Ofm"
      },
      "execution_count": null,
      "outputs": []
    },
    {
      "cell_type": "code",
      "source": [
        "import gradio as gr\n",
        "\n",
        "def search_and_rerank(query):\n",
        "    # Perform bi-encoder search\n",
        "    query_embedding = create_embeddings(query, bi_encoder, bi_tokenizer).cpu().detach().numpy()\n",
        "    scores, samples = embeddings_dataset.get_nearest_examples(\"embeddings\", query_embedding, k=25)\n",
        "\n",
        "    # Convert search results to DataFrame\n",
        "    samples_df = pd.DataFrame.from_dict(samples)\n",
        "    samples_df[\"scores\"] = scores\n",
        "    samples_df.sort_values(\"scores\", ascending=False, inplace=True)\n",
        "    top_k_candidates = list(samples_df[\"text\"])\n",
        "\n",
        "    # Re-rank using cross-encoder\n",
        "    reranked_docs = rerank(query, top_k_candidates, cross_encoder, cross_tokenizer)\n",
        "\n",
        "    # Return the final reranked results as a formatted string\n",
        "    results = \"Reranked results:\\n\"\n",
        "    for idx, doc in enumerate(reranked_docs):\n",
        "        results += f\"{idx + 1}. {doc}\\n\"\n",
        "    return results\n",
        "\n",
        "# Gradio interface\n",
        "input_query = gr.inputs.Textbox(lines=2, label=\"Enter your query\")\n",
        "output_result = gr.outputs.Textbox(label=\"Results\")\n",
        "\n",
        "interface = gr.Interface(fn=search_and_rerank, inputs=input_query, outputs=output_result, title=\"Search and Rerank\")\n",
        "interface.launch()"
      ],
      "metadata": {
        "id": "1zLgpknm90dl"
      },
      "execution_count": null,
      "outputs": []
    }
  ]
}